{
  "nbformat": 4,
  "nbformat_minor": 0,
  "metadata": {
    "colab": {
      "provenance": [],
      "authorship_tag": "ABX9TyNnbQ63oJWOgjV9+Q+XHUqE",
      "include_colab_link": true
    },
    "kernelspec": {
      "name": "python3",
      "display_name": "Python 3"
    },
    "language_info": {
      "name": "python"
    }
  },
  "cells": [
    {
      "cell_type": "markdown",
      "metadata": {
        "id": "view-in-github",
        "colab_type": "text"
      },
      "source": [
        "<a href=\"https://colab.research.google.com/github/DanbiAubrey/RNN/blob/main/rnn.ipynb\" target=\"_parent\"><img src=\"https://colab.research.google.com/assets/colab-badge.svg\" alt=\"Open In Colab\"/></a>"
      ]
    },
    {
      "cell_type": "markdown",
      "source": [
        "# [데이터 전처리]"
      ],
      "metadata": {
        "id": "GtNynGSEW54E"
      }
    },
    {
      "cell_type": "markdown",
      "source": [
        "## 나라별 이름 text 데이터 다운로드"
      ],
      "metadata": {
        "id": "AQZmQ8YXXHPT"
      }
    },
    {
      "cell_type": "markdown",
      "source": [
        "#### - file name: 각 나라 ex) Italian\n",
        "#### - each row in file: 해당 국가의 성(Family name)"
      ],
      "metadata": {
        "id": "HHDAzgktXIpq"
      }
    },
    {
      "cell_type": "code",
      "execution_count": 1,
      "metadata": {
        "colab": {
          "base_uri": "https://localhost:8080/"
        },
        "id": "QS9PQFqNWs1y",
        "outputId": "e33aea92-8553-485b-a48e-36340d95901f"
      },
      "outputs": [
        {
          "output_type": "stream",
          "name": "stdout",
          "text": [
            "--2025-02-27 06:30:00--  https://download.pytorch.org/tutorial/data.zip\n",
            "Resolving download.pytorch.org (download.pytorch.org)... 18.160.200.71, 18.160.200.112, 18.160.200.126, ...\n",
            "Connecting to download.pytorch.org (download.pytorch.org)|18.160.200.71|:443... connected.\n",
            "HTTP request sent, awaiting response... 200 OK\n",
            "Length: 2882130 (2.7M) [application/zip]\n",
            "Saving to: ‘data.zip’\n",
            "\n",
            "\rdata.zip              0%[                    ]       0  --.-KB/s               \rdata.zip            100%[===================>]   2.75M  --.-KB/s    in 0.08s   \n",
            "\n",
            "2025-02-27 06:30:00 (33.0 MB/s) - ‘data.zip’ saved [2882130/2882130]\n",
            "\n"
          ]
        }
      ],
      "source": [
        "!wget https://download.pytorch.org/tutorial/data.zip"
      ]
    },
    {
      "cell_type": "code",
      "source": [
        "!unzip data.zip"
      ],
      "metadata": {
        "colab": {
          "base_uri": "https://localhost:8080/"
        },
        "id": "xMX0qh7LWxHd",
        "outputId": "699050f9-e279-45bf-8c95-f13eee75b7a3"
      },
      "execution_count": 2,
      "outputs": [
        {
          "output_type": "stream",
          "name": "stdout",
          "text": [
            "Archive:  data.zip\n",
            "   creating: data/\n",
            "  inflating: data/eng-fra.txt        \n",
            "   creating: data/names/\n",
            "  inflating: data/names/Arabic.txt   \n",
            "  inflating: data/names/Chinese.txt  \n",
            "  inflating: data/names/Czech.txt    \n",
            "  inflating: data/names/Dutch.txt    \n",
            "  inflating: data/names/English.txt  \n",
            "  inflating: data/names/French.txt   \n",
            "  inflating: data/names/German.txt   \n",
            "  inflating: data/names/Greek.txt    \n",
            "  inflating: data/names/Irish.txt    \n",
            "  inflating: data/names/Italian.txt  \n",
            "  inflating: data/names/Japanese.txt  \n",
            "  inflating: data/names/Korean.txt   \n",
            "  inflating: data/names/Polish.txt   \n",
            "  inflating: data/names/Portuguese.txt  \n",
            "  inflating: data/names/Russian.txt  \n",
            "  inflating: data/names/Scottish.txt  \n",
            "  inflating: data/names/Spanish.txt  \n",
            "  inflating: data/names/Vietnamese.txt  \n"
          ]
        }
      ]
    },
    {
      "cell_type": "markdown",
      "source": [
        "## Family name을 유니코드에서 ASCII 코드로 변환"
      ],
      "metadata": {
        "id": "rbwIWtUAXvZq"
      }
    },
    {
      "cell_type": "markdown",
      "source": [
        "#### 1) total 18 국가의 Family name 파일 찾아서 리스트에 저장"
      ],
      "metadata": {
        "id": "GOwAbifaXx76"
      }
    },
    {
      "cell_type": "code",
      "source": [
        "from glob import glob\n",
        "\n",
        "file_list = glob('data/names/*.txt')\n",
        "n_countries = len(file_list)\n",
        "print(\"number of countries: {}\".format(n_countries))"
      ],
      "metadata": {
        "colab": {
          "base_uri": "https://localhost:8080/"
        },
        "id": "4XbDar1CXOur",
        "outputId": "47398725-6cd2-4d02-df22-c3edc3704aa0"
      },
      "execution_count": 3,
      "outputs": [
        {
          "output_type": "stream",
          "name": "stdout",
          "text": [
            "number of countries: 18\n"
          ]
        }
      ]
    },
    {
      "cell_type": "markdown",
      "source": [
        "#### 2) 특수 문자나 발음 구별 기호를 Family name 에서 제거"
      ],
      "metadata": {
        "id": "12DOtJe3X4PC"
      }
    },
    {
      "cell_type": "code",
      "source": [
        "import string\n",
        "import unicodedata\n",
        "\n",
        "alphs = string.ascii_letters + \" .,;'\"\n",
        "n_alphs = len(alphs)\n",
        "print(\"number of alphabets:{}\".format(n_alphs))"
      ],
      "metadata": {
        "colab": {
          "base_uri": "https://localhost:8080/"
        },
        "id": "LHG47meVX6Xw",
        "outputId": "7b62adfb-60c0-42a7-bd6b-e6ad2c0b3684"
      },
      "execution_count": 4,
      "outputs": [
        {
          "output_type": "stream",
          "name": "stdout",
          "text": [
            "number of alphabets:57\n"
          ]
        }
      ]
    },
    {
      "cell_type": "code",
      "source": [
        "def unicodeToAscii(word):\n",
        "  ascii_word = []\n",
        "  for char in unicodedata.normalize(\"NFD\", word): # base character + combining character\n",
        "    if char in alphs and unicodedata.category(char) != \"Mn\": # 발음 구별 기호 제거하고 알파벳만\n",
        "      ascii_word.append(char)\n",
        "\n",
        "  return ''.join(ascii_word)"
      ],
      "metadata": {
        "id": "nh2AkZpsYLVQ"
      },
      "execution_count": 5,
      "outputs": []
    },
    {
      "cell_type": "code",
      "source": [
        "# 파일을 읽어서 이름의 char들을 알파벳으로 변환\n",
        "def readLines(file):\n",
        "  names = []\n",
        "  lines = open(file, encoding='utf-8').read().strip().split(\"\\n\")\n",
        "  for line in lines:\n",
        "    names.append(unicodeToAscii(line))\n",
        "  return names"
      ],
      "metadata": {
        "id": "yPh5P2h6Ymxw"
      },
      "execution_count": 6,
      "outputs": []
    },
    {
      "cell_type": "code",
      "source": [
        "import os\n",
        "\n",
        "namesxcountry_dict = {}\n",
        "countries = []\n",
        "\n",
        "for file in file_list:\n",
        "  country = os.path.splitext(os.path.basename(file))[0]\n",
        "  countries.append(country)\n",
        "  namesxcountry_dict[country] = readLines(file)"
      ],
      "metadata": {
        "id": "10fxSomIY4rO"
      },
      "execution_count": 7,
      "outputs": []
    },
    {
      "cell_type": "code",
      "source": [
        "print(f\"number of countries: {len(countries)}\", end = \"\\n\\n\")\n",
        "print(f\"countries:{countries}\", end=\"\\n\\n\")\n",
        "print(\"Family names in Korea: {}\".format(namesxcountry_dict[\"Korean\"]))"
      ],
      "metadata": {
        "colab": {
          "base_uri": "https://localhost:8080/"
        },
        "id": "ys2iCO2kZfcz",
        "outputId": "5328d1b0-89e9-4b60-bba0-1dd466604c04"
      },
      "execution_count": 8,
      "outputs": [
        {
          "output_type": "stream",
          "name": "stdout",
          "text": [
            "number of countries: 18\n",
            "\n",
            "countries:['French', 'Irish', 'German', 'Japanese', 'Scottish', 'Russian', 'Czech', 'Arabic', 'Portuguese', 'Greek', 'Vietnamese', 'Korean', 'Polish', 'English', 'Spanish', 'Italian', 'Dutch', 'Chinese']\n",
            "\n",
            "Family names in Korea: ['Ahn', 'Baik', 'Bang', 'Byon', 'Cha', 'Chang', 'Chi', 'Chin', 'Cho', 'Choe', 'Choi', 'Chong', 'Chou', 'Chu', 'Chun', 'Chung', 'Chweh', 'Gil', 'Gu', 'Gwang ', 'Ha', 'Han', 'Ho', 'Hong', 'Hung', 'Hwang', 'Hyun ', 'Jang', 'Jeon', 'Jeong', 'Jo', 'Jon', 'Jong', 'Jung ', 'Kang', 'Kim', 'Ko', 'Koo', 'Ku', 'Kwak', 'Kwang ', 'Lee', 'Li', 'Lim ', 'Ma', 'Mo', 'Moon', 'Nam', 'Ngai', 'Noh', 'Oh ', 'Pae', 'Pak', 'Park ', 'Ra', 'Rhee', 'Rheem', 'Ri', 'Rim', 'Ron', 'Ryom', 'Ryoo', 'Ryu', 'San', 'Seo', 'Seok', 'Shim', 'Shin', 'Shon', 'Si', 'Sin', 'So', 'Son', 'Song', 'Sook', 'Suh', 'Suk', 'Sun', 'Sung', 'Tsai ', 'Wang', 'Woo', 'Yang', 'Yeo', 'Yeon', 'Yi', 'Yim', 'Yoo', 'Yoon', 'You', 'Youj', 'Youn', 'Yu', 'Yun']\n"
          ]
        }
      ]
    },
    {
      "cell_type": "markdown",
      "source": [
        "#### 3) Family name들을 one-hot encoding"
      ],
      "metadata": {
        "id": "Dv1E-0oBqPnn"
      }
    },
    {
      "cell_type": "code",
      "source": [
        "import torch\n",
        "\n",
        "def alph2idx(char):\n",
        "    return alphs.find(char)\n",
        "\n",
        "def alph2tensor(char):\n",
        "    tensor = torch.zeros(1, n_alphs)\n",
        "    tensor[0][alph2idx(char)] = 1\n",
        "\n",
        "    return tensor\n",
        "\n",
        "def word2tensor(word):\n",
        "    tensor = torch.zeros(len(word), 1, n_alphs)\n",
        "    for idx, char in enumerate(word):\n",
        "        tensor[idx][0][alph2idx(char)] = 1\n",
        "    return tensor"
      ],
      "metadata": {
        "id": "M652O1CGqSEU"
      },
      "execution_count": 9,
      "outputs": []
    },
    {
      "cell_type": "markdown",
      "source": [
        "# [RNN 모델]"
      ],
      "metadata": {
        "id": "DGQyEitYqjB0"
      }
    },
    {
      "cell_type": "markdown",
      "source": [],
      "metadata": {
        "id": "juiqPoWKqUz6"
      }
    },
    {
      "cell_type": "code",
      "source": [
        "import torch.nn as nn\n",
        "\n",
        "class RNN(nn.Module):\n",
        "    def __init__(self, input_dim, hidden_dim, output_dim):\n",
        "        super().__init__()\n",
        "        self.hidden_dim = hidden_dim\n",
        "        self.input2hidden = nn.Linear(input_dim + hidden_dim, hidden_dim)\n",
        "        self.hidden2output = nn.Linear(hidden_dim, output_dim)\n",
        "\n",
        "    def forward(self, input, hidden):\n",
        "        combined = torch.cat((input, hidden), 1)\n",
        "        hidden = self.input2hidden(combined)\n",
        "        hidden = torch.tanh(hidden)\n",
        "        output = self.hidden2output(hidden)\n",
        "\n",
        "        return output, hidden\n",
        "\n",
        "    def initial_hidden(self):\n",
        "        return torch.zeros(1, self.hidden_dim)"
      ],
      "metadata": {
        "id": "8bV3l6IWqWoX"
      },
      "execution_count": 10,
      "outputs": []
    },
    {
      "cell_type": "code",
      "source": [
        "# 모델 생성\n",
        "rnn = RNN(len(alphs), 128, n_countries)"
      ],
      "metadata": {
        "id": "zNzqgSVTqYVb"
      },
      "execution_count": 11,
      "outputs": []
    },
    {
      "cell_type": "code",
      "source": [
        "import random\n",
        "\n",
        "def extractRandomData():\n",
        "    country = random.choice(countries)\n",
        "    word = random.choice(namesxcountry_dict[country])\n",
        "    country_tensor = torch.tensor([countries.index(country)], dtype=torch.long)\n",
        "    word_tensor = word2tensor(word)\n",
        "\n",
        "    return country, word, country_tensor, word_tensor\n",
        "\n",
        "for _ in range(5):\n",
        "    country, word, country_tensor, word_tensor = extractRandomData()\n",
        "    print('country =', country, '/ word =', word, '/ country_tensor =', country_tensor)"
      ],
      "metadata": {
        "colab": {
          "base_uri": "https://localhost:8080/"
        },
        "id": "s_m18AQ_qZpr",
        "outputId": "e7105515-a8c0-4eb8-e033-e0df174a82c9"
      },
      "execution_count": 12,
      "outputs": [
        {
          "output_type": "stream",
          "name": "stdout",
          "text": [
            "country = Korean / word = Hung / country_tensor = tensor([11])\n",
            "country = German / word = Gehrig / country_tensor = tensor([2])\n",
            "country = Irish / word = Milligan / country_tensor = tensor([1])\n",
            "country = Italian / word = Fava / country_tensor = tensor([15])\n",
            "country = Portuguese / word = Santos / country_tensor = tensor([8])\n"
          ]
        }
      ]
    },
    {
      "cell_type": "code",
      "source": [
        "# Training\n",
        "loss_fn = nn.CrossEntropyLoss()\n",
        "optimizer = torch.optim.Adam(rnn.parameters())\n",
        "\n",
        "def train(country_tensor, word_tensor):\n",
        "    optimizer.zero_grad()\n",
        "    hidden = rnn.initial_hidden()\n",
        "\n",
        "    for i in range(word_tensor.size()[0]):\n",
        "        output, hidden = rnn(word_tensor[i], hidden)\n",
        "\n",
        "    loss = loss_fn(output, country_tensor)\n",
        "\n",
        "    loss.backward()\n",
        "\n",
        "    optimizer.step()\n",
        "\n",
        "    return output, loss.item()"
      ],
      "metadata": {
        "id": "a6m855b5qlHf"
      },
      "execution_count": 13,
      "outputs": []
    },
    {
      "cell_type": "code",
      "source": [
        "# 100,000 개의 training data\n",
        "import time\n",
        "import math\n",
        "\n",
        "iteration = 100000\n",
        "print_iter = 5000\n",
        "plot_iter = 1000\n",
        "\n",
        "cur_loss = 0\n",
        "losses = []\n",
        "\n",
        "def output2country(output):\n",
        "    top_val, top_idx = output.topk(1)\n",
        "    country_idx = top_idx[0].item()\n",
        "    return countries[country_idx], country_idx\n",
        "\n",
        "for i in range(1, iteration+1):\n",
        "    country, word, country_tensor, word_tensor = extractRandomData()\n",
        "    output, loss = train(country_tensor, word_tensor)\n",
        "    cur_loss += loss\n",
        "\n",
        "    if i % print_iter == 0:\n",
        "        pred, pred_idx = output2country(output)\n",
        "        if pred == country:\n",
        "            correct = 'correct!'\n",
        "        else:\n",
        "            correct = 'wrong (%s)' % country\n",
        "        print('iteration: %d loss: %.5f Family name: %s / Predicted name: %s %s' % (i, loss, word, pred, correct))\n",
        "\n",
        "    if i % plot_iter == 0:\n",
        "        losses.append(cur_loss / plot_iter)\n",
        "        cur_loss = 0"
      ],
      "metadata": {
        "colab": {
          "base_uri": "https://localhost:8080/"
        },
        "id": "KaK9H6ZAqoef",
        "outputId": "bac4f0b3-cb48-4065-98ca-d467a65fb827"
      },
      "execution_count": 22,
      "outputs": [
        {
          "output_type": "stream",
          "name": "stdout",
          "text": [
            "iteration: 5000 loss: 0.26128 Family name: Hay / Predicted name: Scottish correct!\n",
            "iteration: 10000 loss: 0.01118 Family name: Bach / Predicted name: Vietnamese correct!\n",
            "iteration: 15000 loss: 3.87977 Family name: Matsushina / Predicted name: Italian wrong (Japanese)\n",
            "iteration: 20000 loss: 0.81318 Family name: Simonek / Predicted name: Czech correct!\n",
            "iteration: 25000 loss: 0.14638 Family name: Guerra / Predicted name: Spanish correct!\n",
            "iteration: 30000 loss: 0.03342 Family name: Pylnev / Predicted name: Russian correct!\n",
            "iteration: 35000 loss: 1.01551 Family name: Koziol / Predicted name: Czech wrong (Polish)\n",
            "iteration: 40000 loss: 0.00364 Family name: Smolak / Predicted name: Polish correct!\n",
            "iteration: 45000 loss: 2.77487 Family name: Kim / Predicted name: Korean wrong (Vietnamese)\n",
            "iteration: 50000 loss: 0.10292 Family name: Sinclair / Predicted name: Scottish correct!\n",
            "iteration: 55000 loss: 1.92361 Family name: Ma / Predicted name: Korean wrong (Vietnamese)\n",
            "iteration: 60000 loss: 0.11992 Family name: Fei / Predicted name: Chinese correct!\n",
            "iteration: 65000 loss: 0.30084 Family name: Campbell / Predicted name: Scottish correct!\n",
            "iteration: 70000 loss: 0.53858 Family name: Aonghus / Predicted name: Irish correct!\n",
            "iteration: 75000 loss: 0.58742 Family name: Reijnders / Predicted name: Dutch correct!\n",
            "iteration: 80000 loss: 0.00980 Family name: Agatyev / Predicted name: Russian correct!\n",
            "iteration: 85000 loss: 0.10920 Family name: Nam / Predicted name: Korean correct!\n",
            "iteration: 90000 loss: 0.59535 Family name: Moreno / Predicted name: Portuguese correct!\n",
            "iteration: 95000 loss: 0.04211 Family name: Haanraats / Predicted name: Dutch correct!\n",
            "iteration: 100000 loss: 0.05220 Family name: Severijns / Predicted name: Dutch correct!\n"
          ]
        }
      ]
    },
    {
      "cell_type": "code",
      "source": [
        "def evaluate(word_tensor):\n",
        "  hidden = rnn.initial_hidden()\n",
        "\n",
        "  for i in range(word_tensor.size()[0]):\n",
        "    output, hidden = rnn(word_tensor[i], hidden)\n",
        "\n",
        "  return output\n",
        "\n",
        "def predict(input_word, n_preds=3):\n",
        "  print(f'input word:{input_word}')\n",
        "\n",
        "  with torch.no_grad():\n",
        "    output = torch.softmax(evaluate(word2tensor(input_word)), 1)\n",
        "\n",
        "    top_v, top_idx = output.topk(n_preds, 1, True)\n",
        "    predictions = []\n",
        "\n",
        "    for i in range(n_preds):\n",
        "      value = top_v[0][i].item()\n",
        "      country_idx = top_idx[0][i].item()\n",
        "      print(f\"top-{i} score:{value:.4f}/ country: {countries[country_idx]}\")\n",
        "      predictions.append([value, countries[country_idx]])\n",
        "  print(\"\\n\")\n",
        "\n",
        "predict(\"Kim\")\n",
        "predict(\"Stone\")\n",
        "predict(\"Gao\")"
      ],
      "metadata": {
        "colab": {
          "base_uri": "https://localhost:8080/"
        },
        "id": "gx9Ghbabwmcj",
        "outputId": "d56c1d3c-d14b-4397-da7b-1ec26e7701ad"
      },
      "execution_count": 23,
      "outputs": [
        {
          "output_type": "stream",
          "name": "stdout",
          "text": [
            "input word:Kim\n",
            "top-0 score:0.8169/ country: Korean\n",
            "top-1 score:0.0904/ country: Vietnamese\n",
            "top-2 score:0.0690/ country: Russian\n",
            "\n",
            "\n",
            "input word:Stone\n",
            "top-0 score:0.6108/ country: English\n",
            "top-1 score:0.1763/ country: Scottish\n",
            "top-2 score:0.0911/ country: German\n",
            "\n",
            "\n",
            "input word:Gao\n",
            "top-0 score:0.8522/ country: Chinese\n",
            "top-1 score:0.1279/ country: Korean\n",
            "top-2 score:0.0193/ country: Vietnamese\n",
            "\n",
            "\n"
          ]
        }
      ]
    },
    {
      "cell_type": "code",
      "source": [
        "import matplotlib.pyplot as plt\n",
        "import matplotlib.ticker as ticker\n",
        "\n",
        "confusion = torch.zeros(n_countries, n_countries)\n",
        "n_confusion = 10000\n",
        "\n",
        "def evaluate(word_tensor):\n",
        "  hidden = rnn.initial_hidden()\n",
        "\n",
        "  for i in range(word_tensor.size()[0]):\n",
        "    output, hidden = rnn(word_tensor[i], hidden)\n",
        "\n",
        "  return output\n",
        "\n",
        "for i in range(n_confusion):\n",
        "  country, word, country_tensor, word_tensor = extractRandomData()\n",
        "  output = evaluate(word_tensor)\n",
        "  pred, pred_idx = output2country(output)\n",
        "  country_idx = countries.index(country)\n",
        "  confusion[country_idx][pred_idx] += 1\n",
        "\n",
        "\n",
        "for i in range(n_countries):\n",
        "  confusion[i] = confusion[i] / confusion[i].sum()\n",
        "\n",
        "fig = plt.figure()\n",
        "ax = fig.add_subplot(111)\n",
        "cax = ax.matshow(confusion.numpy(), cmap=\"coolwarm\")\n",
        "fig.colorbar(cax)\n",
        "\n",
        "ax.set_xticklabels([''] + countries, rotation=90)\n",
        "ax.set_yticklabels([''] + countries)\n",
        "\n",
        "ax.xaxis.set_major_locator(ticker.MultipleLocator(1))\n",
        "ax.yaxis.set_major_locator(ticker.MultipleLocator(1))\n",
        "\n",
        "plt.show()"
      ],
      "metadata": {
        "colab": {
          "base_uri": "https://localhost:8080/",
          "height": 577
        },
        "id": "xp_CNhKHq1Ls",
        "outputId": "ec6dd03c-5c16-40c2-e5cf-3753ebbacb13"
      },
      "execution_count": 24,
      "outputs": [
        {
          "output_type": "stream",
          "name": "stderr",
          "text": [
            "<ipython-input-24-05547b2b12af>:31: UserWarning: set_ticklabels() should only be used with a fixed number of ticks, i.e. after set_ticks() or using a FixedLocator.\n",
            "  ax.set_xticklabels([''] + countries, rotation=90)\n",
            "<ipython-input-24-05547b2b12af>:32: UserWarning: set_ticklabels() should only be used with a fixed number of ticks, i.e. after set_ticks() or using a FixedLocator.\n",
            "  ax.set_yticklabels([''] + countries)\n"
          ]
        },
        {
          "output_type": "display_data",
          "data": {
            "text/plain": [
              "<Figure size 640x480 with 2 Axes>"
            ],
            "image/png": "[encoded data removed]"
          },
          "metadata": {}
        }
      ]
    }
  ]
}